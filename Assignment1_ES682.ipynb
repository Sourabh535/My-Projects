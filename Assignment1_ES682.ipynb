{
  "nbformat": 4,
  "nbformat_minor": 0,
  "metadata": {
    "colab": {
      "provenance": [],
      "authorship_tag": "ABX9TyPQ/AqNmYjZ2qPfEqo7luf7",
      "include_colab_link": true
    },
    "kernelspec": {
      "name": "python3",
      "display_name": "Python 3"
    },
    "language_info": {
      "name": "python"
    }
  },
  "cells": [
    {
      "cell_type": "markdown",
      "metadata": {
        "id": "view-in-github",
        "colab_type": "text"
      },
      "source": [
        "<a href=\"https://colab.research.google.com/github/Sourabh535/My-Projects/blob/main/Assignment1_ES682.ipynb\" target=\"_parent\"><img src=\"https://colab.research.google.com/assets/colab-badge.svg\" alt=\"Open In Colab\"/></a>"
      ]
    },
    {
      "cell_type": "code",
      "execution_count": null,
      "metadata": {
        "id": "JGYCo1V09vDh"
      },
      "outputs": [],
      "source": [
        "# 1.\tWrite a computer program in a language of your choice to solve a \n",
        "# system of n linear equations and n unknown using (50 marks)"
      ]
    },
    {
      "cell_type": "code",
      "source": [
        "# (a) The Jacobi iterative method "
      ],
      "metadata": {
        "id": "wlzziHqw9zi1"
      },
      "execution_count": null,
      "outputs": []
    },
    {
      "cell_type": "code",
      "source": [
        "import numpy as np\n",
        "\n",
        "# Define the coefficient matrix and the constant vector\n",
        "A = np.array(([[1, -1, 2, -1],\n",
        "              [2, 1, -2, -2],\n",
        "              [-1, 2, -4, 1],\n",
        "              [3, 0, 0, -3]]))\n",
        "b = np.array([1, -2, 1, -3])\n",
        "\n",
        "# Initialize the solution vector with zeros\n",
        "x = np.zeros_like(b)\n",
        "\n",
        "# Set the number of iterations and the tolerance\n",
        "max_iter = 10\n",
        "tolerance = 1e-6\n",
        "\n",
        "# Perform the Jacobi iterative method\n",
        "for k in range(max_iter):\n",
        "    x_new = np.zeros_like(x)\n",
        "    for i in range(A.shape[0]):\n",
        "        x_new[i] = (b[i] - np.dot(A[i,:i], x[:i]) - np.dot(A[i,i+1:], x[i+1:])) / A[i,i]\n",
        "    if np.linalg.norm(x_new - x) < tolerance:\n",
        "        break\n",
        "    x = x_new\n",
        "\n",
        "# Print the solution vector and the number of iterations required\n",
        "print(\"Solution vector:\\n\", x)\n",
        "print(\"Number of iterations:\", k+1)\n",
        "\n"
      ],
      "metadata": {
        "colab": {
          "base_uri": "https://localhost:8080/"
        },
        "id": "T3tjorby93Z8",
        "outputId": "805a0def-fd36-4f53-e473-6215e3212dc2"
      },
      "execution_count": null,
      "outputs": [
        {
          "output_type": "stream",
          "name": "stdout",
          "text": [
            "Solution vector:\n",
            " [-22 -60  -9  34]\n",
            "Number of iterations: 10\n"
          ]
        }
      ]
    },
    {
      "cell_type": "code",
      "source": [
        "def gauss_siedel(A, b, x0, max_iterations, tolerance):\n",
        "    n = len(A)\n",
        "    x = x0.copy()\n",
        "    for k in range(max_iterations):\n",
        "        for i in range(n):\n",
        "            s = sum(A[i][j] * x[j] for j in range(n) if i != j)\n",
        "            x[i] = (b[i] - s) / A[i][i]\n",
        "        if all(abs(x[i] - x0[i]) < tolerance for i in range(n)):\n",
        "            return x\n",
        "        x0 = x.copy()\n",
        "    return x"
      ],
      "metadata": {
        "id": "joslpbtP96RX"
      },
      "execution_count": null,
      "outputs": []
    },
    {
      "cell_type": "code",
      "source": [
        "A = [[1, -1, 2, -1],\n",
        "      [2, 1, -2, -2],\n",
        "      [-1, 2, -4, 1],\n",
        "      [3, 0, 0, -3]]\n",
        "b = [1, -2, 1, -3]\n",
        "\n",
        "x0 = [0, 0, 0, 0]\n",
        "\n",
        "max_iterations = 10\n",
        "\n",
        "tolerance = 1e-6\n",
        "\n",
        "solution = gauss_siedel(A, b, x0, max_iterations, tolerance)\n",
        "\n",
        "print(solution)\n"
      ],
      "metadata": {
        "colab": {
          "base_uri": "https://localhost:8080/"
        },
        "id": "rm-svd8p9_gF",
        "outputId": "66b930fc-55a6-40e2-ea17-06634119d47e"
      },
      "execution_count": null,
      "outputs": [
        {
          "output_type": "stream",
          "name": "stdout",
          "text": [
            "[35.00390625, -88.01171875, -45.0048828125, 36.00390625]\n"
          ]
        }
      ]
    },
    {
      "cell_type": "code",
      "source": [],
      "metadata": {
        "id": "qbjuTx_D-B-p"
      },
      "execution_count": null,
      "outputs": []
    }
  ]
}