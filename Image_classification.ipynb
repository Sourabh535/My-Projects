{
  "nbformat": 4,
  "nbformat_minor": 0,
  "metadata": {
    "colab": {
      "provenance": [],
      "authorship_tag": "ABX9TyMliRN899v/AxpkPQDRAyKd",
      "include_colab_link": true
    },
    "kernelspec": {
      "name": "python3",
      "display_name": "Python 3"
    },
    "language_info": {
      "name": "python"
    }
  },
  "cells": [
    {
      "cell_type": "markdown",
      "metadata": {
        "id": "view-in-github",
        "colab_type": "text"
      },
      "source": [
        "<a href=\"https://colab.research.google.com/github/Sourabh535/My-Projects/blob/main/Image_classification.ipynb\" target=\"_parent\"><img src=\"https://colab.research.google.com/assets/colab-badge.svg\" alt=\"Open In Colab\"/></a>"
      ]
    },
    {
      "cell_type": "code",
      "execution_count": 2,
      "metadata": {
        "id": "K9msbkH9CIDL"
      },
      "outputs": [],
      "source": [
        "import pandas as pd\n",
        "import numpy as np\n",
        "import matplotlib.pyplot as plt\n",
        "import seaborn as sns\n",
        "%matplotlib inline"
      ]
    },
    {
      "cell_type": "code",
      "source": [
        "# Data = Images\n",
        "# Download manully the images from google\n",
        "# Download the data from kaggle.com\n",
        "# Build a web image crawler\n",
        "# use pyhton libraries to scrape the images we use this"
      ],
      "metadata": {
        "id": "4gsUzVtJCUNY"
      },
      "execution_count": 3,
      "outputs": []
    },
    {
      "cell_type": "code",
      "source": [
        "!pip install ipython-autotime\n",
        "%load_ext autotime\n",
        "# how much time cell takes to install"
      ],
      "metadata": {
        "colab": {
          "base_uri": "https://localhost:8080/"
        },
        "id": "y7YL_HXXDBkS",
        "outputId": "b7ef9806-efed-4c08-f22c-7a2d60d4ec54"
      },
      "execution_count": 4,
      "outputs": [
        {
          "output_type": "stream",
          "name": "stdout",
          "text": [
            "Looking in indexes: https://pypi.org/simple, https://us-python.pkg.dev/colab-wheels/public/simple/\n",
            "Collecting ipython-autotime\n",
            "  Downloading ipython_autotime-0.3.1-py2.py3-none-any.whl (6.8 kB)\n",
            "Requirement already satisfied: ipython in /usr/local/lib/python3.8/dist-packages (from ipython-autotime) (7.9.0)\n",
            "Requirement already satisfied: traitlets>=4.2 in /usr/local/lib/python3.8/dist-packages (from ipython->ipython-autotime) (5.7.1)\n",
            "Requirement already satisfied: setuptools>=18.5 in /usr/local/lib/python3.8/dist-packages (from ipython->ipython-autotime) (57.4.0)\n",
            "Requirement already satisfied: pexpect in /usr/local/lib/python3.8/dist-packages (from ipython->ipython-autotime) (4.8.0)\n",
            "Requirement already satisfied: pickleshare in /usr/local/lib/python3.8/dist-packages (from ipython->ipython-autotime) (0.7.5)\n",
            "Requirement already satisfied: decorator in /usr/local/lib/python3.8/dist-packages (from ipython->ipython-autotime) (4.4.2)\n",
            "Requirement already satisfied: backcall in /usr/local/lib/python3.8/dist-packages (from ipython->ipython-autotime) (0.2.0)\n",
            "Requirement already satisfied: pygments in /usr/local/lib/python3.8/dist-packages (from ipython->ipython-autotime) (2.6.1)\n",
            "Requirement already satisfied: prompt-toolkit<2.1.0,>=2.0.0 in /usr/local/lib/python3.8/dist-packages (from ipython->ipython-autotime) (2.0.10)\n",
            "Collecting jedi>=0.10\n",
            "  Downloading jedi-0.18.2-py2.py3-none-any.whl (1.6 MB)\n",
            "\u001b[K     |████████████████████████████████| 1.6 MB 8.2 MB/s \n",
            "\u001b[?25hRequirement already satisfied: parso<0.9.0,>=0.8.0 in /usr/local/lib/python3.8/dist-packages (from jedi>=0.10->ipython->ipython-autotime) (0.8.3)\n",
            "Requirement already satisfied: six>=1.9.0 in /usr/local/lib/python3.8/dist-packages (from prompt-toolkit<2.1.0,>=2.0.0->ipython->ipython-autotime) (1.15.0)\n",
            "Requirement already satisfied: wcwidth in /usr/local/lib/python3.8/dist-packages (from prompt-toolkit<2.1.0,>=2.0.0->ipython->ipython-autotime) (0.2.5)\n",
            "Requirement already satisfied: ptyprocess>=0.5 in /usr/local/lib/python3.8/dist-packages (from pexpect->ipython->ipython-autotime) (0.7.0)\n",
            "Installing collected packages: jedi, ipython-autotime\n",
            "Successfully installed ipython-autotime-0.3.1 jedi-0.18.2\n",
            "time: 704 µs (started: 2022-12-27 08:34:56 +00:00)\n"
          ]
        }
      ]
    },
    {
      "cell_type": "code",
      "source": [
        "!pip install Bing-image-downloader"
      ],
      "metadata": {
        "colab": {
          "base_uri": "https://localhost:8080/"
        },
        "id": "9mzyjy_TCVQt",
        "outputId": "ecfc81c3-1bdd-4eac-c803-a911be6fdbd0"
      },
      "execution_count": 5,
      "outputs": [
        {
          "output_type": "stream",
          "name": "stdout",
          "text": [
            "Looking in indexes: https://pypi.org/simple, https://us-python.pkg.dev/colab-wheels/public/simple/\n",
            "Collecting Bing-image-downloader\n",
            "  Downloading bing_image_downloader-1.1.2-py3-none-any.whl (5.9 kB)\n",
            "Installing collected packages: Bing-image-downloader\n",
            "Successfully installed Bing-image-downloader-1.1.2\n",
            "time: 3.95 s (started: 2022-12-27 08:34:56 +00:00)\n"
          ]
        }
      ]
    },
    {
      "cell_type": "code",
      "source": [
        "!mkdir images"
      ],
      "metadata": {
        "colab": {
          "base_uri": "https://localhost:8080/"
        },
        "id": "me4IJIsvCXib",
        "outputId": "8c8d7bef-fbb4-4cae-b285-62b9b102d828"
      },
      "execution_count": 6,
      "outputs": [
        {
          "output_type": "stream",
          "name": "stdout",
          "text": [
            "time: 123 ms (started: 2022-12-27 08:35:00 +00:00)\n"
          ]
        }
      ]
    },
    {
      "cell_type": "code",
      "source": [
        "from bing_image_downloader import downloader\n",
        "downloader.download(\"pretty sunflower\", limit = 30, output_dir= \"images\", adult_filter_off= True)"
      ],
      "metadata": {
        "colab": {
          "base_uri": "https://localhost:8080/"
        },
        "id": "8S_eOijQCyyO",
        "outputId": "0848d646-e0ad-47d7-94c4-39bec16b3f83"
      },
      "execution_count": 7,
      "outputs": [
        {
          "output_type": "stream",
          "name": "stdout",
          "text": [
            "[%] Downloading Images to /content/images/pretty sunflower\n",
            "\n",
            "\n",
            "[!!]Indexing page: 1\n",
            "\n",
            "[%] Indexed 19 Images on Page 1.\n",
            "\n",
            "===============================================\n",
            "\n",
            "[%] Downloading Image #1 from http://3.bp.blogspot.com/-kFLI6jc8tWY/TkY62KWkA3I/AAAAAAAAD0o/IG-GcvSZnt0/s1600/sunflower_wallpaper_2072.jpg\n",
            "[%] File Downloaded !\n",
            "\n",
            "[%] Downloading Image #2 from https://3.bp.blogspot.com/-zdiNMBJCeuA/TkY6lQgiL6I/AAAAAAAAD0M/sM2w3Q-UKSA/s1600/sunflower_wallpaper_2065.jpg\n",
            "[%] File Downloaded !\n",
            "\n",
            "[%] Downloading Image #3 from https://4.bp.blogspot.com/_W5lGWFz2VV4/TK5PqUu-ZTI/AAAAAAAAA-Q/rQXb9VnKUDc/s1600/_MG_3422+copy.jpg\n",
            "[%] File Downloaded !\n",
            "\n",
            "[%] Downloading Image #4 from https://www.funmag.org/wp-content/uploads/2017/07/sunflower-photos-3.jpg\n",
            "[%] File Downloaded !\n",
            "\n",
            "[%] Downloading Image #5 from https://i.pinimg.com/736x/7e/06/04/7e060410e16fc8d88d2239c9ee1b9ed7.jpg\n",
            "[%] File Downloaded !\n",
            "\n",
            "[%] Downloading Image #6 from https://i.pinimg.com/736x/40/22/33/402233ef09756075eac3f6f5068688bb.jpg\n",
            "[%] File Downloaded !\n",
            "\n",
            "[%] Downloading Image #7 from http://www.photographyblogger.net/wp-content/uploads/2010/10/sunflower4.jpg\n",
            "[!] Issue getting: http://www.photographyblogger.net/wp-content/uploads/2010/10/sunflower4.jpg\n",
            "[!] Error:: <urlopen error timed out>\n",
            "[%] Downloading Image #7 from https://images.fineartamerica.com/images-medium-large-5/a-beautiful-sunflower-boon-mee.jpg\n",
            "[%] File Downloaded !\n",
            "\n",
            "[%] Downloading Image #8 from https://3.bp.blogspot.com/_1nBo68srmXo/TE6tpPnGamI/AAAAAAAABdU/3OF7GHPk8nY/s1600/Sunflowers,+3-3276.jpg\n",
            "[%] File Downloaded !\n",
            "\n",
            "[%] Downloading Image #9 from https://dozenroses13.files.wordpress.com/2010/01/sunflowers.jpg\n",
            "[%] File Downloaded !\n",
            "\n",
            "[%] Downloading Image #10 from https://i.pinimg.com/736x/2e/17/24/2e17248a8d020f603ba0f0482a18d479.jpg\n",
            "[%] File Downloaded !\n",
            "\n",
            "[%] Downloading Image #11 from https://2.bp.blogspot.com/-x9KWTogUvo4/TkvVtDPYXAI/AAAAAAAABWU/WRXCBJF29ao/s1600/Sunflowers.jpg\n",
            "[%] File Downloaded !\n",
            "\n",
            "[%] Downloading Image #12 from https://1.bp.blogspot.com/_BTA6c77j3cc/TJC5TZiltbI/AAAAAAAABkg/nHZGilwbbF4/s1600/beautiful+sunflowers.jpg\n",
            "[%] File Downloaded !\n",
            "\n",
            "[%] Downloading Image #13 from https://media2.giphy.com/media/toD2r1bNHkbUk/giphy.gif\n",
            "[Error]Invalid image, not saving https://media2.giphy.com/media/toD2r1bNHkbUk/giphy.gif\n",
            "\n",
            "[!] Issue getting: https://media2.giphy.com/media/toD2r1bNHkbUk/giphy.gif\n",
            "[!] Error:: Invalid image, not saving https://media2.giphy.com/media/toD2r1bNHkbUk/giphy.gif\n",
            "\n",
            "[%] Downloading Image #13 from https://www.bing.com/th/id/OGC.768e46e699a2188fd564b89daafaadfc?pid=1.7&amp;rurl=https%3a%2f%2fmedia2.giphy.com%2fmedia%2ftoD2r1bNHkbUk%2fgiphy.gif&amp;ehk=s5Lr11VL00Rhd0mi7UG%2bJnqcu8FJvEKkKWbDnSvoqEU%3d\n",
            "[!] Issue getting: https://www.bing.com/th/id/OGC.768e46e699a2188fd564b89daafaadfc?pid=1.7&amp;rurl=https%3a%2f%2fmedia2.giphy.com%2fmedia%2ftoD2r1bNHkbUk%2fgiphy.gif&amp;ehk=s5Lr11VL00Rhd0mi7UG%2bJnqcu8FJvEKkKWbDnSvoqEU%3d\n",
            "[!] Error:: HTTP Error 404: Not Found\n",
            "[%] Downloading Image #13 from https://www.surfstitch.com/on/demandware.static/-/Sites-ss-master-catalog/default/dwc7f2b659/images/RV-R405822-BLK/BLACK-WOMENS-SWIMWEAR-RVCA-BIKINI-BOTTOMS-RV-R405822-BLK_3.JPG\n",
            "[%] File Downloaded !\n",
            "\n",
            "[%] Downloading Image #14 from https://www.elegantweddinginvites.com/wedding-blog/wp-content/uploads/2015/12/Seasonal-Wedding-Trend-Sunflower-wedding-decor-ideas.jpg\n",
            "[%] File Downloaded !\n",
            "\n",
            "[%] Downloading Image #15 from http://www.prettydesigns.com/wp-content/uploads/2014/11/Dream-Catcher-Tattoo.jpg\n",
            "[%] File Downloaded !\n",
            "\n",
            "[%] Downloading Image #16 from http://www.wallpapers13.com/wp-content/uploads/2015/12/Beautiful-place-78967-1920x1080.jpg\n",
            "[%] File Downloaded !\n",
            "\n",
            "\n",
            "\n",
            "[!!]Indexing page: 2\n",
            "\n",
            "[%] Indexed 19 Images on Page 2.\n",
            "\n",
            "===============================================\n",
            "\n",
            "\n",
            "\n",
            "[!!]Indexing page: 3\n",
            "\n",
            "[%] Indexed 17 Images on Page 3.\n",
            "\n",
            "===============================================\n",
            "\n",
            "[%] Downloading Image #17 from http://www.photographyblogger.net/wp-content/uploads/2010/10/sunflower15.jpg\n",
            "[!] Issue getting: http://www.photographyblogger.net/wp-content/uploads/2010/10/sunflower15.jpg\n",
            "[!] Error:: <urlopen error timed out>\n",
            "[%] Downloading Image #17 from http://xemanhdep.com/gallery/sunflower/sunflower19.jpg\n",
            "[%] File Downloaded !\n",
            "\n",
            "[%] Downloading Image #18 from https://blueblots.com/wp-content/uploads/2011/07/11-sunflower2.jpg\n",
            "[%] File Downloaded !\n",
            "\n",
            "[%] Downloading Image #19 from https://1.bp.blogspot.com/-pxLGDjQnfxs/UfOJUzOc5tI/AAAAAAAAG_Q/i7neJOH1i0k/s640/beautiful+Sun+flower+(6).jpg\n",
            "[%] File Downloaded !\n",
            "\n",
            "[%] Downloading Image #20 from https://wallpapercave.com/wp/wp5767614.jpg\n",
            "[%] File Downloaded !\n",
            "\n",
            "[%] Downloading Image #21 from https://img.xcitefun.net/users/2014/07/361672,xcitefun-sunflower-6.jpg\n",
            "[%] File Downloaded !\n",
            "\n",
            "[%] Downloading Image #22 from https://s2.best-wallpaper.net/wallpaper/iphone/1301/Yellow-flower-sunflower-summer-sunny-blurring-background_iphone_640x960.jpg\n",
            "[%] File Downloaded !\n",
            "\n",
            "[%] Downloading Image #23 from https://2.bp.blogspot.com/-NqjTw0dKrEo/T5_rjOyMUzI/AAAAAAAAAwE/cb0j4F1CBzg/s1600/sunflower.jpg\n",
            "[%] File Downloaded !\n",
            "\n",
            "[%] Downloading Image #24 from https://68.media.tumblr.com/d52aa6c15f38d21d0dc5855bb0004085/tumblr_ojkufgfZx91tenz0vo1_500.jpg\n",
            "[Error]Invalid image, not saving https://68.media.tumblr.com/d52aa6c15f38d21d0dc5855bb0004085/tumblr_ojkufgfZx91tenz0vo1_500.jpg\n",
            "\n",
            "[!] Issue getting: https://68.media.tumblr.com/d52aa6c15f38d21d0dc5855bb0004085/tumblr_ojkufgfZx91tenz0vo1_500.jpg\n",
            "[!] Error:: Invalid image, not saving https://68.media.tumblr.com/d52aa6c15f38d21d0dc5855bb0004085/tumblr_ojkufgfZx91tenz0vo1_500.jpg\n",
            "\n",
            "[%] Downloading Image #24 from http://www.wallpapers13.com/wp-content/uploads/2015/12/Beautiful-colorful-flowers-wide-134969105.jpg\n",
            "[%] File Downloaded !\n",
            "\n",
            "[%] Downloading Image #25 from https://800003.xyz/files/funzug/imgs/walls/big/sun_flowers_wal_09.jpg\n",
            "[%] File Downloaded !\n",
            "\n",
            "[%] Downloading Image #26 from http://thumbs.dreamstime.com/x/beautiful-sunflowers-4317047.jpg\n",
            "[%] File Downloaded !\n",
            "\n",
            "[%] Downloading Image #27 from https://www.elegantweddinginvites.com/wedding-blog/wp-content/uploads/2015/12/inexpensive-wedding-centerpiece-ideas-with-sunflowers.jpg\n",
            "[%] File Downloaded !\n",
            "\n",
            "[%] Downloading Image #28 from https://i.pinimg.com/736x/0d/e6/b4/0de6b41431e5439a95881f8e06bebb00.jpg\n",
            "[%] File Downloaded !\n",
            "\n",
            "[%] Downloading Image #29 from http://2.bp.blogspot.com/-DG5z6qvOmfo/UA_wMSwTJnI/AAAAAAAAACM/EzwuSJKPG5w/s1600/sum09_sunflowers.jpg\n",
            "[%] File Downloaded !\n",
            "\n",
            "[%] Downloading Image #30 from https://tattooblend.com/wp-content/uploads/2016/02/watercolor-sunflower-tattoo-1.jpg\n",
            "[%] File Downloaded !\n",
            "\n",
            "\n",
            "\n",
            "[%] Done. Downloaded 30 images.\n",
            "time: 2min 23s (started: 2022-12-27 08:35:00 +00:00)\n"
          ]
        }
      ]
    },
    {
      "cell_type": "code",
      "source": [
        "from bing_image_downloader import downloader\n",
        "downloader.download(\"rugby ball leather\", limit = 30, output_dir= \"images\", adult_filter_off= True)"
      ],
      "metadata": {
        "colab": {
          "base_uri": "https://localhost:8080/"
        },
        "id": "Hygh9HMuDOIi",
        "outputId": "3d0c8c65-da66-4edd-d7a6-5c2987c952bd"
      },
      "execution_count": 8,
      "outputs": [
        {
          "output_type": "stream",
          "name": "stdout",
          "text": [
            "[%] Downloading Images to /content/images/rugby ball leather\n",
            "\n",
            "\n",
            "[!!]Indexing page: 1\n",
            "\n",
            "[%] Indexed 14 Images on Page 1.\n",
            "\n",
            "===============================================\n",
            "\n",
            "[%] Downloading Image #1 from http://cdn.notonthehighstreet.com/system/product_images/images/000/640/511/original_IMG_4159.jpg\n",
            "[%] File Downloaded !\n",
            "\n",
            "[%] Downloading Image #2 from http://cdn.shopify.com/s/files/1/0226/2169/products/600RugbyBlue2_grande.jpg?v=1459276405\n",
            "[%] File Downloaded !\n",
            "\n",
            "[%] Downloading Image #3 from http://cdn.shopify.com/s/files/1/0226/2169/products/Chromexcel_2048x2048_V3_grande.jpg?v=1511272700\n",
            "[%] File Downloaded !\n",
            "\n",
            "[%] Downloading Image #4 from https://cdn.shopify.com/s/files/1/0226/2169/products/0a2d5b467c23e50338e0cf0824978c72.jpg?v=1459274944\n",
            "[%] File Downloaded !\n",
            "\n",
            "[%] Downloading Image #5 from http://cdn.shopify.com/s/files/1/0226/2169/collections/CXLRugby60002_large.jpg?v=1456244018\n",
            "[%] File Downloaded !\n",
            "\n",
            "[%] Downloading Image #6 from https://cdn.shopify.com/s/files/1/0226/2169/products/BlkOnyxRugby6002pg_large.jpg?v=1459274944\n",
            "[%] File Downloaded !\n",
            "\n",
            "[%] Downloading Image #7 from https://thumbs.dreamstime.com/z/old-classic-retro-rugby-ball-27089051.jpg\n",
            "[%] File Downloaded !\n",
            "\n",
            "[%] Downloading Image #8 from https://sc01.alicdn.com/kf/U9dbcd786df9a4371a452babb63a746a3O/1096099/U9dbcd786df9a4371a452babb63a746a3O.jpg\n",
            "[%] File Downloaded !\n",
            "\n",
            "[%] Downloading Image #9 from https://www.prodirectrugby.com/productimages/V3_1_Main/72236.jpg?imwidth=768\n",
            "[!] Issue getting: https://www.prodirectrugby.com/productimages/V3_1_Main/72236.jpg?imwidth=768\n",
            "[!] Error:: HTTP Error 403: Forbidden\n",
            "[%] Downloading Image #9 from https://www.molten.co.jp/sports/en/football/product/football/detail/img/f5a5000_480480_ph007.jpg\n",
            "[Error]Invalid image, not saving https://www.molten.co.jp/sports/en/football/product/football/detail/img/f5a5000_480480_ph007.jpg\n",
            "\n",
            "[!] Issue getting: https://www.molten.co.jp/sports/en/football/product/football/detail/img/f5a5000_480480_ph007.jpg\n",
            "[!] Error:: Invalid image, not saving https://www.molten.co.jp/sports/en/football/product/football/detail/img/f5a5000_480480_ph007.jpg\n",
            "\n",
            "[%] Downloading Image #9 from https://www.prodirectrugby.com/productimages/V3_1_Main/62281.jpg\n",
            "[!] Issue getting: https://www.prodirectrugby.com/productimages/V3_1_Main/62281.jpg\n",
            "[!] Error:: HTTP Error 403: Forbidden\n",
            "[%] Downloading Image #9 from https://thumbs.dreamstime.com/b/american-football-ball-texture-vector-sports-background-realistic-illustration-84901669.jpg\n",
            "[%] File Downloaded !\n",
            "\n",
            "[%] Downloading Image #10 from https://www.victeamsports.com/wp-content/uploads/2019/05/IMG_1798-1.jpg\n",
            "[%] File Downloaded !\n",
            "\n",
            "[%] Downloading Image #11 from https://image.slidesharecdn.com/mikelee-informativebriefpp-100413231307-phpapp02/95/rugby-3-728.jpg?cb=1271833337\n",
            "[%] File Downloaded !\n",
            "\n",
            "\n",
            "\n",
            "[!!]Indexing page: 2\n",
            "\n",
            "[%] Indexed 14 Images on Page 2.\n",
            "\n",
            "===============================================\n",
            "\n",
            "\n",
            "\n",
            "[!!]Indexing page: 3\n",
            "\n",
            "[%] Indexed 13 Images on Page 3.\n",
            "\n",
            "===============================================\n",
            "\n",
            "\n",
            "\n",
            "[!!]Indexing page: 4\n",
            "\n",
            "[%] Indexed 16 Images on Page 4.\n",
            "\n",
            "===============================================\n",
            "\n",
            "[%] Downloading Image #12 from http://www.kraveantiques.co.uk/images/products/Leather-Rugby-Ball-958-4.jpg\n",
            "[%] File Downloaded !\n",
            "\n",
            "[%] Downloading Image #13 from https://cdn.shopify.com/s/files/1/0788/5979/products/mvp-leather-balls-brown-cream-leather-rugby-ball-1.jpg?v=1550134649\n",
            "[%] File Downloaded !\n",
            "\n",
            "[%] Downloading Image #14 from https://sportantiques.co.uk/pub/media/catalog/product/2/5/sportantiques-607410622417.jpg\n",
            "[Error]Invalid image, not saving https://sportantiques.co.uk/pub/media/catalog/product/2/5/sportantiques-607410622417.jpg\n",
            "\n",
            "[!] Issue getting: https://sportantiques.co.uk/pub/media/catalog/product/2/5/sportantiques-607410622417.jpg\n",
            "[!] Error:: Invalid image, not saving https://sportantiques.co.uk/pub/media/catalog/product/2/5/sportantiques-607410622417.jpg\n",
            "\n",
            "[%] Downloading Image #14 from http://i.ebayimg.com/00/s/MjUwWDE5Ng==/z/H3cAAOxyYSdS-zH9/$_3.JPG?set_id=2\n",
            "[%] File Downloaded !\n",
            "\n",
            "[%] Downloading Image #15 from https://cdn.shopify.com/s/files/1/0226/2169/products/0a2d5b467c23e50338e0cf0824978c72_1024x1024.jpg?v=1459274944\n",
            "[%] File Downloaded !\n",
            "\n",
            "[%] Downloading Image #16 from https://3.cdn.ekm.net/ekmps/shops/4ec6af/images/leather-rugby-ball-washbag-[5]-1860-p.png?v=62D6BDA2-7D94-4338-A6CD-F39C263FBA50\n",
            "[%] File Downloaded !\n",
            "\n",
            "[%] Downloading Image #17 from http://cdn.notonthehighstreet.com/system/product_images/images/000/441/248/original_SUM11-005-i.jpg\n",
            "[%] File Downloaded !\n",
            "\n",
            "[%] Downloading Image #18 from https://i.pinimg.com/originals/f5/58/47/f558470fdf7ad5d25435c9a16dfd2265.jpg\n",
            "[%] File Downloaded !\n",
            "\n",
            "[%] Downloading Image #19 from http://www.kraveantiques.co.uk/images/products/Brown-Rugby-Ball-115-6.jpg\n",
            "[%] File Downloaded !\n",
            "\n",
            "[%] Downloading Image #20 from https://mk0littleweddiny97mj.kinstacdn.com/wp-content/uploads/2017/03/leatherrugbyball-e1489583354381.jpg\n",
            "[%] File Downloaded !\n",
            "\n",
            "[%] Downloading Image #21 from https://www.victeamsports.com/wp-content/uploads/2020/04/IMG_5730.jpg\n",
            "[%] File Downloaded !\n",
            "\n",
            "[%] Downloading Image #22 from https://www.promotionproducts.com.au/media/products/images/mini-rugby-balls/Mini-Rugby-Balls_hero.jpg\n",
            "[%] File Downloaded !\n",
            "\n",
            "[%] Downloading Image #23 from http://cdn.shopify.com/s/files/1/1492/1076/products/Tornado_2_800x.jpg?v=1581073969\n",
            "[%] File Downloaded !\n",
            "\n",
            "[%] Downloading Image #24 from https://www.sportsballshop.co.uk/acatalog/DukesCountyInternational.jpg\n",
            "[%] File Downloaded !\n",
            "\n",
            "[%] Downloading Image #25 from https://i.ebayimg.com/images/g/9fsAAOSw-ABbeNss/s-l1600.jpg\n",
            "[%] File Downloaded !\n",
            "\n",
            "[%] Downloading Image #26 from https://cdn.pixabay.com/photo/2014/04/03/11/08/american-football-311817_640.png\n",
            "[%] File Downloaded !\n",
            "\n",
            "\n",
            "\n",
            "[!!]Indexing page: 5\n",
            "\n",
            "[%] Indexed 11 Images on Page 5.\n",
            "\n",
            "===============================================\n",
            "\n",
            "\n",
            "\n",
            "[!!]Indexing page: 6\n",
            "\n",
            "[%] Indexed 14 Images on Page 6.\n",
            "\n",
            "===============================================\n",
            "\n",
            "[%] Downloading Image #27 from http://outdoor-products.co.za/wp-content/uploads/2020/12/MDeMTOX0u1PkIHIY5F_.jpg\n",
            "[%] File Downloaded !\n",
            "\n",
            "[%] Downloading Image #28 from https://cdn.shopify.com/s/files/1/0226/2169/products/Chromexcel_2048x2048_V3_1024x1024.jpg?v=1511272700\n",
            "[%] File Downloaded !\n",
            "\n",
            "[%] Downloading Image #29 from http://www.kraveantiques.co.uk/images/products/Brown-Rugby-Ball-115-1.jpg\n",
            "[%] File Downloaded !\n",
            "\n",
            "[%] Downloading Image #30 from http://skbassansports.com/wp-content/uploads/2019/01/DSC_0185-copy-300x300.png\n",
            "[%] File Downloaded !\n",
            "\n",
            "\n",
            "\n",
            "[%] Done. Downloaded 30 images.\n",
            "time: 30.7 s (started: 2022-12-27 08:37:23 +00:00)\n"
          ]
        }
      ]
    },
    {
      "cell_type": "code",
      "source": [
        "from bing_image_downloader import downloader\n",
        "downloader.download(\"ice cream cone\", limit = 30, output_dir= \"images\", adult_filter_off= True)"
      ],
      "metadata": {
        "colab": {
          "base_uri": "https://localhost:8080/"
        },
        "id": "KamMYWfZERqe",
        "outputId": "f913093d-02ca-47ec-dcab-091b4aaea0c1"
      },
      "execution_count": 9,
      "outputs": [
        {
          "output_type": "stream",
          "name": "stdout",
          "text": [
            "[%] Downloading Images to /content/images/ice cream cone\n",
            "\n",
            "\n",
            "[!!]Indexing page: 1\n",
            "\n",
            "[%] Indexed 18 Images on Page 1.\n",
            "\n",
            "===============================================\n",
            "\n",
            "[%] Downloading Image #1 from https://www.obnoxiousantiques.com/wp-content/uploads/2016/09/ice-cream-cone-grease-4.jpg\n",
            "[%] File Downloaded !\n",
            "\n",
            "[%] Downloading Image #2 from https://i.pinimg.com/736x/6c/a8/85/6ca8858ddcaa0eff2b95a335eab96f45.jpg\n",
            "[%] File Downloaded !\n",
            "\n",
            "[%] Downloading Image #3 from https://www.roadsideamerica.com/attract/images/mo/MOAFFicecream_laura.jpg\n",
            "[%] File Downloaded !\n",
            "\n",
            "[%] Downloading Image #4 from http://images.hellogiggles.com/uploads/2016/12/01032110/cosmo-glitter-ice-cream-cone-cake.jpg\n",
            "[%] File Downloaded !\n",
            "\n",
            "[%] Downloading Image #5 from http://2.bp.blogspot.com/-XpQB-S5EzCw/TutpxIpVf4I/AAAAAAAAARE/VYrGd7FUc8A/s1600/ice+cream+cones.jpg\n",
            "[%] File Downloaded !\n",
            "\n",
            "[%] Downloading Image #6 from http://2.bp.blogspot.com/_n9zRrlbkaTI/S1AI21ZAcXI/AAAAAAAAAI0/nbasXNmb4ec/s320/IceCreamCones.jpg\n",
            "[%] File Downloaded !\n",
            "\n",
            "[%] Downloading Image #7 from https://theselby.com/media/Ice-Cream-Cone_Nolita.jpg\n",
            "[%] File Downloaded !\n",
            "\n",
            "[%] Downloading Image #8 from https://live.staticflickr.com/3638/3388731735_9e5d431f67_b.jpg\n",
            "[Error]Invalid image, not saving https://live.staticflickr.com/3638/3388731735_9e5d431f67_b.jpg\n",
            "\n",
            "[!] Issue getting: https://live.staticflickr.com/3638/3388731735_9e5d431f67_b.jpg\n",
            "[!] Error:: Invalid image, not saving https://live.staticflickr.com/3638/3388731735_9e5d431f67_b.jpg\n",
            "\n",
            "[%] Downloading Image #8 from https://www.clker.com/cliparts/f/4/1/e/13074380501217459384ice cream cones.png\n",
            "[!] Issue getting: https://www.clker.com/cliparts/f/4/1/e/13074380501217459384ice cream cones.png\n",
            "[!] Error:: URL can't contain control characters. '/cliparts/f/4/1/e/13074380501217459384ice cream cones.png' (found at least ' ')\n",
            "[%] Downloading Image #8 from https://c2.staticflickr.com/6/5445/7227446516_2bfabf111c_b.jpg\n",
            "[%] File Downloaded !\n",
            "\n",
            "[%] Downloading Image #9 from https://1.bp.blogspot.com/-mBvdxyKvuYU/XQwODZF5-3I/AAAAAAAAUP8/I6c8A72g-_sDzzUSVi6WiP9-ssgVuByKwCLcBGAs/s1600/anime_anime_girls.jpg\n",
            "[%] File Downloaded !\n",
            "\n",
            "[%] Downloading Image #10 from https://cdn001.cakecentral.com/gallery/2016/08/900_ice-cream-cone-birthday-cake-798496ZqE8j.jpg\n",
            "[%] File Downloaded !\n",
            "\n",
            "[%] Downloading Image #11 from https://res.cloudinary.com/orthodox-union/image/fetch/c_fill,f_auto/https://www.ou.org/life/files/ice-cream-cone.jpg\n",
            "[%] File Downloaded !\n",
            "\n",
            "[%] Downloading Image #12 from http://www.sparkpeople.com/news/genericpictures/BigPictures/ice_cream_cones_dessert.jpg\n",
            "[%] File Downloaded !\n",
            "\n",
            "[%] Downloading Image #13 from http://1.bp.blogspot.com/-81fpfAp_gO0/T6f3L5nuYcI/AAAAAAAACU8/f9DTxGgF2Vg/s1600/Ice-Cream-Cones.jpg\n",
            "[%] File Downloaded !\n",
            "\n",
            "[%] Downloading Image #14 from https://thumbs.dreamstime.com/z/ice-cream-cone-15367478.jpg\n",
            "[%] File Downloaded !\n",
            "\n",
            "[%] Downloading Image #15 from https://c.stocksy.com/a/oxh000/za/169000.jpg\n",
            "[%] File Downloaded !\n",
            "\n",
            "[%] Downloading Image #16 from https://sparkpeo.hs.llnwd.net/e1/resize/900w/assets/resource/slideshow/ice cream cone.jpg\n",
            "[!] Issue getting: https://sparkpeo.hs.llnwd.net/e1/resize/900w/assets/resource/slideshow/ice cream cone.jpg\n",
            "[!] Error:: URL can't contain control characters. '/e1/resize/900w/assets/resource/slideshow/ice cream cone.jpg' (found at least ' ')\n",
            "\n",
            "\n",
            "[!!]Indexing page: 2\n",
            "\n",
            "[%] Indexed 18 Images on Page 2.\n",
            "\n",
            "===============================================\n",
            "\n",
            "\n",
            "\n",
            "[!!]Indexing page: 3\n",
            "\n",
            "[%] Indexed 15 Images on Page 3.\n",
            "\n",
            "===============================================\n",
            "\n",
            "[%] Downloading Image #16 from http://sweets.seriouseats.com/images/2013/01/20130201-rocky-road-primary.jpg\n",
            "[Error]Invalid image, not saving http://sweets.seriouseats.com/images/2013/01/20130201-rocky-road-primary.jpg\n",
            "\n",
            "[!] Issue getting: http://sweets.seriouseats.com/images/2013/01/20130201-rocky-road-primary.jpg\n",
            "[!] Error:: Invalid image, not saving http://sweets.seriouseats.com/images/2013/01/20130201-rocky-road-primary.jpg\n",
            "\n",
            "[%] Downloading Image #16 from http://thumbs.dreamstime.com/z/icecream-cones-25980462.jpg\n",
            "[%] File Downloaded !\n",
            "\n",
            "[%] Downloading Image #17 from https://www.sparkpeople.com/news/genericpictures/BigPictures/ice_cream_cone_dessert.jpg\n",
            "[%] File Downloaded !\n",
            "\n",
            "[%] Downloading Image #18 from https://4.bp.blogspot.com/-AGdma9Y2dj4/T1otlhYqrCI/AAAAAAAAAN4/cKtJEhALok4/s320/ice-cream-cone.jpg\n",
            "[%] File Downloaded !\n",
            "\n",
            "[%] Downloading Image #19 from http://bestanimations.com/Food/ice-pop-animated-gif.gif\n",
            "[%] File Downloaded !\n",
            "\n",
            "[%] Downloading Image #20 from https://www.bing.com/th/id/OGC.73a5f1d5300bf4d6af5f7b3c2218dddc?pid=1.7&amp;rurl=http%3a%2f%2fbestanimations.com%2fFood%2fice-pop-animated-gif.gif&amp;ehk=2%2fDqe65TV5uyW8cpgPEtqq2hVzMxym8Y5iegGSRgfPA%3d\n",
            "[!] Issue getting: https://www.bing.com/th/id/OGC.73a5f1d5300bf4d6af5f7b3c2218dddc?pid=1.7&amp;rurl=http%3a%2f%2fbestanimations.com%2fFood%2fice-pop-animated-gif.gif&amp;ehk=2%2fDqe65TV5uyW8cpgPEtqq2hVzMxym8Y5iegGSRgfPA%3d\n",
            "[!] Error:: HTTP Error 404: Not Found\n",
            "[%] Downloading Image #20 from https://www.clker.com/cliparts/f/4/1/e/13074380501217459384ice cream cones-hi.png\n",
            "[!] Issue getting: https://www.clker.com/cliparts/f/4/1/e/13074380501217459384ice cream cones-hi.png\n",
            "[!] Error:: URL can't contain control characters. '/cliparts/f/4/1/e/13074380501217459384ice cream cones-hi.png' (found at least ' ')\n",
            "[%] Downloading Image #20 from https://www.benjerry.com.sg/files/live/sites/systemsite/files/flavors/flavors-redesign-landings-2016/category-pages/US/Shops_OG.jpg\n",
            "[%] File Downloaded !\n",
            "\n",
            "[%] Downloading Image #21 from https://keeprecipes.com/sites/keeprecipes/files/fullicecream581.jpg\n",
            "[%] File Downloaded !\n",
            "\n",
            "[%] Downloading Image #22 from https://splashysplash.com/wp-content/uploads/2012/04/gucci-mane-ice-cream-cone-piece-white-diamonds-jewelry-brick-squad-camer-chain.jpeg\n",
            "[%] File Downloaded !\n",
            "\n",
            "[%] Downloading Image #23 from https://c1.staticflickr.com/1/101/288660373_657be7c2be_z.jpg?zz=1\n",
            "[Error]Invalid image, not saving https://c1.staticflickr.com/1/101/288660373_657be7c2be_z.jpg?zz=1\n",
            "\n",
            "[!] Issue getting: https://c1.staticflickr.com/1/101/288660373_657be7c2be_z.jpg?zz=1\n",
            "[!] Error:: Invalid image, not saving https://c1.staticflickr.com/1/101/288660373_657be7c2be_z.jpg?zz=1\n",
            "\n",
            "[%] Downloading Image #23 from https://api.time.com/wp-content/uploads/2014/06/sprinkles.jpg?quality=85&amp;w=1200&amp;h=628&amp;crop=1\n",
            "[%] File Downloaded !\n",
            "\n",
            "[%] Downloading Image #24 from http://4.bp.blogspot.com/_nHmceb4KTAs/S0pfaA1LqjI/AAAAAAAAAEU/I9vCxxR2F14/s320/ice-cream-cone-a.jpg\n",
            "[%] File Downloaded !\n",
            "\n",
            "[%] Downloading Image #25 from http://akns-images.eonline.com/eol_images/Entire_Site/2014910/rs_300x300-141010052310-600.Joe-Biden-JR-101014.jpg?downsize=600:315\n",
            "[%] File Downloaded !\n",
            "\n",
            "[%] Downloading Image #26 from https://www.conveniencestore.co.uk/Pictures/620xAny/3/0/1/10301_Lion-Ice-Cream-Bar.png\n",
            "[%] File Downloaded !\n",
            "\n",
            "\n",
            "\n",
            "[!!]Indexing page: 4\n",
            "\n",
            "[%] Indexed 16 Images on Page 4.\n",
            "\n",
            "===============================================\n",
            "\n",
            "\n",
            "\n",
            "[!!]Indexing page: 5\n",
            "\n",
            "[%] Indexed 15 Images on Page 5.\n",
            "\n",
            "===============================================\n",
            "\n",
            "\n",
            "\n",
            "[!!]Indexing page: 6\n",
            "\n",
            "[%] Indexed 14 Images on Page 6.\n",
            "\n",
            "===============================================\n",
            "\n",
            "\n",
            "\n",
            "[!!]Indexing page: 7\n",
            "\n",
            "[%] Indexed 13 Images on Page 7.\n",
            "\n",
            "===============================================\n",
            "\n",
            "\n",
            "\n",
            "[!!]Indexing page: 8\n",
            "\n",
            "[%] Indexed 12 Images on Page 8.\n",
            "\n",
            "===============================================\n",
            "\n",
            "\n",
            "\n",
            "[!!]Indexing page: 9\n",
            "\n",
            "[%] Indexed 11 Images on Page 9.\n",
            "\n",
            "===============================================\n",
            "\n",
            "\n",
            "\n",
            "[!!]Indexing page: 10\n",
            "\n",
            "[%] Indexed 8 Images on Page 10.\n",
            "\n",
            "===============================================\n",
            "\n",
            "\n",
            "\n",
            "[!!]Indexing page: 11\n",
            "\n",
            "[%] Indexed 9 Images on Page 11.\n",
            "\n",
            "===============================================\n",
            "\n",
            "\n",
            "\n",
            "[!!]Indexing page: 12\n",
            "\n",
            "[%] Indexed 8 Images on Page 12.\n",
            "\n",
            "===============================================\n",
            "\n",
            "\n",
            "\n",
            "[!!]Indexing page: 13\n",
            "\n",
            "[%] Indexed 7 Images on Page 13.\n",
            "\n",
            "===============================================\n",
            "\n",
            "\n",
            "\n",
            "[!!]Indexing page: 14\n",
            "\n",
            "[%] Indexed 6 Images on Page 14.\n",
            "\n",
            "===============================================\n",
            "\n",
            "\n",
            "\n",
            "[!!]Indexing page: 15\n",
            "\n",
            "[%] Indexed 2 Images on Page 15.\n",
            "\n",
            "===============================================\n",
            "\n",
            "\n",
            "\n",
            "[!!]Indexing page: 16\n",
            "\n",
            "[%] Indexed 4 Images on Page 16.\n",
            "\n",
            "===============================================\n",
            "\n",
            "\n",
            "\n",
            "[!!]Indexing page: 17\n",
            "\n",
            "[%] Indexed 9 Images on Page 17.\n",
            "\n",
            "===============================================\n",
            "\n",
            "[%] Downloading Image #27 from https://www.frugalcouponliving.com/wp-content/uploads/2013/11/Santa-Hat-Cupcakes-recipe-FRUGAL-coupon-living.jpg\n",
            "[%] File Downloaded !\n",
            "\n",
            "[%] Downloading Image #28 from https://assets3.thrillist.com/v1/image/2747543/1200x600/scale;\n",
            "[%] File Downloaded !\n",
            "\n",
            "[%] Downloading Image #29 from https://userscontent2.emaze.com/images/03f4474a-bdfe-4217-b6b6-a8cc5b09ba61/4401579bca0c678f0c364eb564736202.JPG\n",
            "[%] File Downloaded !\n",
            "\n",
            "[%] Downloading Image #30 from http://cdn.shopify.com/s/files/1/1798/0695/products/DipperChocLov_1024x1024.jpg?v=1489803037\n",
            "[%] File Downloaded !\n",
            "\n",
            "\n",
            "\n",
            "[%] Done. Downloaded 30 images.\n",
            "time: 17.1 s (started: 2022-12-27 08:37:54 +00:00)\n"
          ]
        }
      ]
    },
    {
      "cell_type": "code",
      "source": [
        "# data gatering is completed\n",
        "# now preprocessing"
      ],
      "metadata": {
        "colab": {
          "base_uri": "https://localhost:8080/"
        },
        "id": "PI5kgBZgEbDk",
        "outputId": "916e1616-7685-49c8-f746-82515fe4b169"
      },
      "execution_count": 10,
      "outputs": [
        {
          "output_type": "stream",
          "name": "stdout",
          "text": [
            "time: 726 µs (started: 2022-12-27 08:38:11 +00:00)\n"
          ]
        }
      ]
    },
    {
      "cell_type": "code",
      "source": [
        "import numpy as np\n",
        "a = np.array([1,2,3])"
      ],
      "metadata": {
        "colab": {
          "base_uri": "https://localhost:8080/"
        },
        "id": "vEi_q6lBUEO8",
        "outputId": "df819001-6b5a-4e63-e71a-223480380b20"
      },
      "execution_count": 11,
      "outputs": [
        {
          "output_type": "stream",
          "name": "stdout",
          "text": [
            "time: 1.24 ms (started: 2022-12-27 08:38:11 +00:00)\n"
          ]
        }
      ]
    },
    {
      "cell_type": "code",
      "source": [
        "a = np.array([1,2,3])\n",
        "a.ndim\n",
        "a"
      ],
      "metadata": {
        "colab": {
          "base_uri": "https://localhost:8080/"
        },
        "id": "igoEmyYGUQyo",
        "outputId": "70624c88-33c8-437c-818e-82a1c5aef63a"
      },
      "execution_count": 12,
      "outputs": [
        {
          "output_type": "execute_result",
          "data": {
            "text/plain": [
              "array([1, 2, 3])"
            ]
          },
          "metadata": {},
          "execution_count": 12
        },
        {
          "output_type": "stream",
          "name": "stdout",
          "text": [
            "time: 8.45 ms (started: 2022-12-27 08:38:11 +00:00)\n"
          ]
        }
      ]
    },
    {
      "cell_type": "code",
      "source": [
        "a = np.array([[1,2,3],\n",
        "              [4, 5, 6]])\n",
        "a\n",
        "a.ndim\n",
        "a"
      ],
      "metadata": {
        "colab": {
          "base_uri": "https://localhost:8080/"
        },
        "id": "kzakx3OVUQwO",
        "outputId": "3601ddda-6ed2-4f9d-c4fe-35c95c054f97"
      },
      "execution_count": 13,
      "outputs": [
        {
          "output_type": "execute_result",
          "data": {
            "text/plain": [
              "array([[1, 2, 3],\n",
              "       [4, 5, 6]])"
            ]
          },
          "metadata": {},
          "execution_count": 13
        },
        {
          "output_type": "stream",
          "name": "stdout",
          "text": [
            "time: 5.29 ms (started: 2022-12-27 08:38:11 +00:00)\n"
          ]
        }
      ]
    },
    {
      "cell_type": "code",
      "source": [
        "# how do i convert matrix to vector - flatten method 2d - 1d\n",
        "a.flatten()"
      ],
      "metadata": {
        "colab": {
          "base_uri": "https://localhost:8080/"
        },
        "id": "mLzNVNfHUzq1",
        "outputId": "32f5db3c-3876-47cd-d1b9-fc6f8f4a4af9"
      },
      "execution_count": 14,
      "outputs": [
        {
          "output_type": "execute_result",
          "data": {
            "text/plain": [
              "array([1, 2, 3, 4, 5, 6])"
            ]
          },
          "metadata": {},
          "execution_count": 14
        },
        {
          "output_type": "stream",
          "name": "stdout",
          "text": [
            "time: 8.32 ms (started: 2022-12-27 08:38:11 +00:00)\n"
          ]
        }
      ]
    },
    {
      "cell_type": "code",
      "source": [
        "import os # because of usage of different folders\n",
        "import numpy as np #for numerical computing\n",
        "import matplotlib.pyplot as plt # for displaying the images\n",
        "from skimage.io import imread # for reading image\n",
        "from skimage.transform import resize # for resizing image make specific size for all"
      ],
      "metadata": {
        "colab": {
          "base_uri": "https://localhost:8080/"
        },
        "id": "D2BUntFfR3qY",
        "outputId": "8db75697-e7fb-4b3f-dffd-28a1a7cc9db1"
      },
      "execution_count": 15,
      "outputs": [
        {
          "output_type": "stream",
          "name": "stdout",
          "text": [
            "time: 633 ms (started: 2022-12-27 08:38:11 +00:00)\n"
          ]
        }
      ]
    },
    {
      "cell_type": "code",
      "source": [
        "target = []\n",
        "images = []\n",
        "flat_data = []\n",
        "DATADIR ='/content/images'\n",
        "CATEGORIES = ['pretty sunflower', 'rugby ball leather', 'ice cream cone']\n",
        "for category in CATEGORIES:\n",
        "  print(category)\n"
      ],
      "metadata": {
        "colab": {
          "base_uri": "https://localhost:8080/"
        },
        "id": "FGavg1vxTT57",
        "outputId": "02972410-febf-4047-8b38-4219db1229d1"
      },
      "execution_count": 16,
      "outputs": [
        {
          "output_type": "stream",
          "name": "stdout",
          "text": [
            "pretty sunflower\n",
            "rugby ball leather\n",
            "ice cream cone\n",
            "time: 1.14 ms (started: 2022-12-27 08:38:11 +00:00)\n"
          ]
        }
      ]
    },
    {
      "cell_type": "code",
      "source": [
        "for category in CATEGORIES:\n",
        "  class_num = CATEGORIES.index(category)\n",
        "  path = os.path.join(DATADIR, category)\n",
        "  print(class_num)\n",
        "  print(path)"
      ],
      "metadata": {
        "colab": {
          "base_uri": "https://localhost:8080/"
        },
        "id": "6FO7yXZUVxom",
        "outputId": "3cd2efde-62be-41f9-8187-4d6607beb87f"
      },
      "execution_count": 17,
      "outputs": [
        {
          "output_type": "stream",
          "name": "stdout",
          "text": [
            "0\n",
            "/content/images/pretty sunflower\n",
            "1\n",
            "/content/images/rugby ball leather\n",
            "2\n",
            "/content/images/ice cream cone\n",
            "time: 1.13 ms (started: 2022-12-27 08:38:11 +00:00)\n"
          ]
        }
      ]
    },
    {
      "cell_type": "code",
      "source": [
        "for img in os.listdir(path):\n",
        "  img_array = imread(os.path.join(path, img))\n",
        "  #print(img_array)\n",
        "  print(img_array .shape)\n"
      ],
      "metadata": {
        "colab": {
          "base_uri": "https://localhost:8080/"
        },
        "id": "0TVq0UmIWgG8",
        "outputId": "c9280c60-b087-4768-e265-ebab511e896f"
      },
      "execution_count": 18,
      "outputs": [
        {
          "output_type": "stream",
          "name": "stdout",
          "text": [
            "(600, 860, 3)\n",
            "(1936, 1936, 3)\n",
            "(320, 255, 3)\n",
            "(1102, 735, 3)\n",
            "(630, 1200, 3)\n",
            "(425, 640, 3)\n",
            "(1600, 676, 3)\n",
            "(744, 900, 3)\n",
            "(254, 390, 3)\n",
            "(1136, 750, 3)\n",
            "(1000, 706, 3)\n",
            "(1300, 957, 3)\n",
            "(871, 581, 3)\n",
            "(1000, 1500, 3)\n",
            "(460, 620, 4)\n",
            "(375, 250, 3)\n",
            "(1117, 1300, 3)\n",
            "(432, 330, 3)\n",
            "(450, 300, 4)\n",
            "(315, 600, 3)\n",
            "(1600, 900, 3)\n",
            "(283, 424, 3)\n",
            "(250, 200, 3)\n",
            "(280, 210, 3)\n",
            "(2172, 1466, 3)\n",
            "(254, 390, 3)\n",
            "(1024, 683, 3)\n",
            "(252, 278, 3)\n",
            "(400, 266, 3)\n",
            "(1800, 996, 3)\n",
            "time: 676 ms (started: 2022-12-27 08:38:11 +00:00)\n"
          ]
        }
      ]
    },
    {
      "cell_type": "code",
      "source": [
        " print(img_array .shape)"
      ],
      "metadata": {
        "colab": {
          "base_uri": "https://localhost:8080/"
        },
        "id": "ropb88nhXxUl",
        "outputId": "44a452aa-b513-46cd-fb2b-b5eb969e0f22"
      },
      "execution_count": 19,
      "outputs": [
        {
          "output_type": "stream",
          "name": "stdout",
          "text": [
            "(1800, 996, 3)\n",
            "time: 676 µs (started: 2022-12-27 08:38:12 +00:00)\n"
          ]
        }
      ]
    },
    {
      "cell_type": "code",
      "source": [
        "plt.imshow(img_array)\n",
        "break"
      ],
      "metadata": {
        "colab": {
          "base_uri": "https://localhost:8080/",
          "height": 400
        },
        "id": "jkpr14smX-g8",
        "outputId": "2e4a28fe-d70c-4b0b-9949-0a5012cd6f16"
      },
      "execution_count": 20,
      "outputs": [
        {
          "output_type": "error",
          "ename": "SyntaxError",
          "evalue": "ignored",
          "traceback": [
            "\u001b[0;36m  File \u001b[0;32m\"<ipython-input-20-8147160b32cb>\"\u001b[0;36m, line \u001b[0;32m2\u001b[0m\n\u001b[0;31m    break\u001b[0m\n\u001b[0m    ^\u001b[0m\n\u001b[0;31mSyntaxError\u001b[0m\u001b[0;31m:\u001b[0m 'break' outside loop\n"
          ]
        },
        {
          "output_type": "display_data",
          "data": {
            "text/plain": [
              "<Figure size 432x288 with 1 Axes>"
            ],
            "image/png": "[encoded data removed]"
          },
          "metadata": {
            "needs_background": "light"
          }
        },
        {
          "output_type": "stream",
          "name": "stdout",
          "text": [
            "time: 512 ms (started: 2022-12-27 08:38:12 +00:00)\n"
          ]
        }
      ]
    },
    {
      "cell_type": "code",
      "source": [
        "# Preprocessing\n",
        "# REesizing\n",
        "# Flattening"
      ],
      "metadata": {
        "colab": {
          "base_uri": "https://localhost:8080/"
        },
        "id": "ekt-eLfqYZ7y",
        "outputId": "9b89d1b9-aed3-4385-ec25-672d918188ad"
      },
      "execution_count": 21,
      "outputs": [
        {
          "output_type": "stream",
          "name": "stdout",
          "text": [
            "time: 503 µs (started: 2022-12-27 08:40:12 +00:00)\n"
          ]
        }
      ]
    },
    {
      "cell_type": "code",
      "source": [
        "#img_resized = resize(img_array(150,150,3))\n",
        "#flat.data.append(img_resized.flatten())\n",
        "#images.append(img_resized)\n",
        "#target.append(class_num)"
      ],
      "metadata": {
        "id": "ErQf652awRc_"
      },
      "execution_count": null,
      "outputs": []
    },
    {
      "cell_type": "code",
      "source": [
        "# resizing\n",
        "import sys\n"
      ],
      "metadata": {
        "colab": {
          "base_uri": "https://localhost:8080/"
        },
        "id": "P0oeB1t6Y0kM",
        "outputId": "315a3656-ab67-4d74-a120-b25aaac8ffae"
      },
      "execution_count": 22,
      "outputs": [
        {
          "output_type": "stream",
          "name": "stdout",
          "text": [
            "time: 666 µs (started: 2022-12-27 08:40:13 +00:00)\n"
          ]
        }
      ]
    },
    {
      "cell_type": "code",
      "source": [
        "target = []\n",
        "images = []\n",
        "flat_data = []\n",
        "DATADIR ='/content/images'\n",
        "CATEGORIES = ['pretty sunflower', 'rugby ball leather', 'ice cream cone']\n",
        "for category in CATEGORIES:\n",
        "  class_num = CATEGORIES.index(category) # Label encoding the value\n",
        "  path = os.path.join(DATADIR, category) # create path to all the images\n",
        "  for img in os.listdir(path):\n",
        "    img_array = imread(os.path.join(path,img))\n",
        "    img_resized = resize(img_array,(150,150,3))\n",
        "    flat_data.append(img_resized.flatten())\n",
        "    images.append(img_resized)\n",
        "    target.append(class_num)\n",
        "flat_data = np.array(flat_data)\n",
        "target = np.array(target)\n",
        "images = np.array(images)"
      ],
      "metadata": {
        "colab": {
          "base_uri": "https://localhost:8080/"
        },
        "id": "nWzE1OYDZle6",
        "outputId": "5d0c4251-d9c0-4418-9d05-fd05fec39474"
      },
      "execution_count": 25,
      "outputs": [
        {
          "output_type": "stream",
          "name": "stdout",
          "text": [
            "time: 16.6 s (started: 2022-12-27 08:47:47 +00:00)\n"
          ]
        }
      ]
    },
    {
      "cell_type": "code",
      "source": [
        "flat_data"
      ],
      "metadata": {
        "colab": {
          "base_uri": "https://localhost:8080/"
        },
        "id": "uKfubwueammB",
        "outputId": "769d2f45-0ff7-4dcd-a3b7-7cfc3cb9211f"
      },
      "execution_count": 26,
      "outputs": [
        {
          "output_type": "execute_result",
          "data": {
            "text/plain": [
              "array([[0.48627451, 0.60392157, 0.61176471, ..., 0.36130771, 0.51372549,\n",
              "        0.54062745],\n",
              "       [0.39673203, 0.23986928, 0.        , ..., 0.15294118, 0.1372549 ,\n",
              "        0.02352941],\n",
              "       [0.03267974, 0.03267974, 0.03137255, ..., 0.0379085 , 0.06013072,\n",
              "        0.03529412],\n",
              "       ...,\n",
              "       [0.99215686, 0.99756235, 0.97947712, ..., 1.        , 1.        ,\n",
              "        1.        ],\n",
              "       [0.08627451, 0.08627451, 0.08627451, ..., 0.09411765, 0.09411765,\n",
              "        0.09411765],\n",
              "       [1.        , 1.        , 1.        , ..., 1.        , 1.        ,\n",
              "        1.        ]])"
            ]
          },
          "metadata": {},
          "execution_count": 26
        },
        {
          "output_type": "stream",
          "name": "stdout",
          "text": [
            "time: 9.05 ms (started: 2022-12-27 08:48:16 +00:00)\n"
          ]
        }
      ]
    },
    {
      "cell_type": "code",
      "source": [
        "flat_data[0]"
      ],
      "metadata": {
        "colab": {
          "base_uri": "https://localhost:8080/"
        },
        "id": "OHUOx9XXbt5R",
        "outputId": "61c0eeef-5591-4f64-fa65-c2b61264e716"
      },
      "execution_count": 28,
      "outputs": [
        {
          "output_type": "execute_result",
          "data": {
            "text/plain": [
              "array([0.48627451, 0.60392157, 0.61176471, ..., 0.36130771, 0.51372549,\n",
              "       0.54062745])"
            ]
          },
          "metadata": {},
          "execution_count": 28
        },
        {
          "output_type": "stream",
          "name": "stdout",
          "text": [
            "time: 4.08 ms (started: 2022-12-27 08:48:24 +00:00)\n"
          ]
        }
      ]
    },
    {
      "cell_type": "code",
      "source": [
        "len(flat_data[0])"
      ],
      "metadata": {
        "colab": {
          "base_uri": "https://localhost:8080/"
        },
        "id": "sSVnEM6mgibr",
        "outputId": "2615d411-15fa-4eff-f087-9cf2b0d273f4"
      },
      "execution_count": 29,
      "outputs": [
        {
          "output_type": "execute_result",
          "data": {
            "text/plain": [
              "67500"
            ]
          },
          "metadata": {},
          "execution_count": 29
        },
        {
          "output_type": "stream",
          "name": "stdout",
          "text": [
            "time: 6.9 ms (started: 2022-12-27 08:48:25 +00:00)\n"
          ]
        }
      ]
    },
    {
      "cell_type": "code",
      "source": [
        "target"
      ],
      "metadata": {
        "colab": {
          "base_uri": "https://localhost:8080/"
        },
        "id": "e7eNvG0bg3N9",
        "outputId": "d581b2b3-053c-4957-eac9-cca67cc83351"
      },
      "execution_count": 31,
      "outputs": [
        {
          "output_type": "execute_result",
          "data": {
            "text/plain": [
              "array([0, 0, 0, 0, 0, 0, 0, 0, 0, 0, 0, 0, 0, 0, 0, 0, 0, 0, 0, 0, 0, 0,\n",
              "       0, 0, 0, 0, 0, 0, 0, 0, 1, 1, 1, 1, 1, 1, 1, 1, 1, 1, 1, 1, 1, 1,\n",
              "       1, 1, 1, 1, 1, 1, 1, 1, 1, 1, 1, 1, 1, 1, 1, 1, 2, 2, 2, 2, 2, 2,\n",
              "       2, 2, 2, 2, 2, 2, 2, 2, 2, 2, 2, 2, 2, 2, 2, 2, 2, 2, 2, 2, 2, 2,\n",
              "       2, 2])"
            ]
          },
          "metadata": {},
          "execution_count": 31
        },
        {
          "output_type": "stream",
          "name": "stdout",
          "text": [
            "time: 4.26 ms (started: 2022-12-27 08:48:27 +00:00)\n"
          ]
        }
      ]
    },
    {
      "cell_type": "code",
      "source": [
        "unique, count = np.unique(target, return_counts = True)\n",
        "plt.bar(CATEGORIES, count)"
      ],
      "metadata": {
        "colab": {
          "base_uri": "https://localhost:8080/",
          "height": 300
        },
        "id": "XkgNR2XEhCcE",
        "outputId": "04974a77-5ac2-489b-f569-72e33a51573a"
      },
      "execution_count": 32,
      "outputs": [
        {
          "output_type": "execute_result",
          "data": {
            "text/plain": [
              "<BarContainer object of 3 artists>"
            ]
          },
          "metadata": {},
          "execution_count": 32
        },
        {
          "output_type": "display_data",
          "data": {
            "text/plain": [
              "<Figure size 432x288 with 1 Axes>"
            ],
            "image/png": "[encoded data removed]"
          },
          "metadata": {
            "needs_background": "light"
          }
        },
        {
          "output_type": "stream",
          "name": "stdout",
          "text": [
            "time: 135 ms (started: 2022-12-27 08:48:32 +00:00)\n"
          ]
        }
      ]
    },
    {
      "cell_type": "code",
      "source": [
        "# Split data into training and testing using train test split "
      ],
      "metadata": {
        "colab": {
          "base_uri": "https://localhost:8080/"
        },
        "id": "fUXyfMsUhMjG",
        "outputId": "d180b3df-d7ea-4c0a-bd1d-27720815d9aa"
      },
      "execution_count": 33,
      "outputs": [
        {
          "output_type": "stream",
          "name": "stdout",
          "text": [
            "time: 508 µs (started: 2022-12-27 08:48:33 +00:00)\n"
          ]
        }
      ]
    },
    {
      "cell_type": "code",
      "source": [
        "from sklearn.model_selection import train_test_split\n",
        "x_train, x_test,y_train, y_test = train_test_split(flat_data, target , test_size= 0.1, random_state= 190)\n"
      ],
      "metadata": {
        "colab": {
          "base_uri": "https://localhost:8080/"
        },
        "id": "9_hxYvjWihVZ",
        "outputId": "19c99a8f-c247-4c47-981a-a5ec858f04fc"
      },
      "execution_count": 34,
      "outputs": [
        {
          "output_type": "stream",
          "name": "stdout",
          "text": [
            "time: 44.8 ms (started: 2022-12-27 08:48:34 +00:00)\n"
          ]
        }
      ]
    },
    {
      "cell_type": "code",
      "source": [
        "# Using a algorithm Support vector machinees SVM(Supervisied learniing methods)\n",
        "from sklearn.model_selection import GridSearchCV\n",
        "from sklearn import svm\n",
        "param_grid =[\n",
        "    {'C':[1,10,100,1000], 'kernel': ['linear']},\n",
        "    {'C':[1,10,100,1000], 'gamma': [0.001,0.0001], 'kernel': ['rbf']},\n",
        "]\n",
        "svc = svm.SVC(probability = True)\n",
        "clf = GridSearchCV(svc, param_grid)\n",
        "clf.fit(x_train, y_train)"
      ],
      "metadata": {
        "colab": {
          "base_uri": "https://localhost:8080/"
        },
        "id": "c1CKCmeSjUSU",
        "outputId": "699bc337-1009-4abc-e622-4cd03ff1866e"
      },
      "execution_count": 35,
      "outputs": [
        {
          "output_type": "execute_result",
          "data": {
            "text/plain": [
              "GridSearchCV(estimator=SVC(probability=True),\n",
              "             param_grid=[{'C': [1, 10, 100, 1000], 'kernel': ['linear']},\n",
              "                         {'C': [1, 10, 100, 1000], 'gamma': [0.001, 0.0001],\n",
              "                          'kernel': ['rbf']}])"
            ]
          },
          "metadata": {},
          "execution_count": 35
        },
        {
          "output_type": "stream",
          "name": "stdout",
          "text": [
            "time: 1min 53s (started: 2022-12-27 08:48:38 +00:00)\n"
          ]
        }
      ]
    },
    {
      "cell_type": "code",
      "source": [
        "y_pred = clf.predict(x_test)\n",
        "y_pred"
      ],
      "metadata": {
        "colab": {
          "base_uri": "https://localhost:8080/"
        },
        "id": "UfsIf1UUl26n",
        "outputId": "3aae8c46-91f4-4074-81a6-b0cf1be4363f"
      },
      "execution_count": 36,
      "outputs": [
        {
          "output_type": "execute_result",
          "data": {
            "text/plain": [
              "array([1, 2, 0, 0, 1, 0, 1, 0, 2])"
            ]
          },
          "metadata": {},
          "execution_count": 36
        },
        {
          "output_type": "stream",
          "name": "stdout",
          "text": [
            "time: 144 ms (started: 2022-12-27 08:50:32 +00:00)\n"
          ]
        }
      ]
    },
    {
      "cell_type": "code",
      "source": [
        "y_test"
      ],
      "metadata": {
        "colab": {
          "base_uri": "https://localhost:8080/"
        },
        "id": "e3i2qJAFmXt3",
        "outputId": "062ed797-dcb8-42da-84da-0f2324b70b4c"
      },
      "execution_count": 37,
      "outputs": [
        {
          "output_type": "execute_result",
          "data": {
            "text/plain": [
              "array([1, 1, 2, 0, 1, 0, 0, 0, 2])"
            ]
          },
          "metadata": {},
          "execution_count": 37
        },
        {
          "output_type": "stream",
          "name": "stdout",
          "text": [
            "time: 7.09 ms (started: 2022-12-27 08:50:32 +00:00)\n"
          ]
        }
      ]
    },
    {
      "cell_type": "code",
      "source": [
        "from sklearn.metrics import accuracy_score, confusion_matrix"
      ],
      "metadata": {
        "colab": {
          "base_uri": "https://localhost:8080/"
        },
        "id": "tyRquIk2pVqO",
        "outputId": "c92b2505-10fc-40b6-956d-10c6b6175161"
      },
      "execution_count": 38,
      "outputs": [
        {
          "output_type": "stream",
          "name": "stdout",
          "text": [
            "time: 3.98 ms (started: 2022-12-27 08:50:32 +00:00)\n"
          ]
        }
      ]
    },
    {
      "cell_type": "code",
      "source": [
        "accuracy_score(y_pred, y_test)"
      ],
      "metadata": {
        "colab": {
          "base_uri": "https://localhost:8080/"
        },
        "id": "26_IXWkVpf2D",
        "outputId": "cec1c55c-a72c-44cb-eb9c-0af188f6b433"
      },
      "execution_count": 46,
      "outputs": [
        {
          "output_type": "execute_result",
          "data": {
            "text/plain": [
              "0.6666666666666666"
            ]
          },
          "metadata": {},
          "execution_count": 46
        },
        {
          "output_type": "stream",
          "name": "stdout",
          "text": [
            "time: 5.05 ms (started: 2022-12-27 08:56:38 +00:00)\n"
          ]
        }
      ]
    },
    {
      "cell_type": "code",
      "source": [
        "confusion_matrix(y_pred, y_test)"
      ],
      "metadata": {
        "colab": {
          "base_uri": "https://localhost:8080/"
        },
        "id": "VSxh-nkHzQi1",
        "outputId": "dcfc3c9b-b7bf-4294-e17c-8f14b0d6f53c"
      },
      "execution_count": 48,
      "outputs": [
        {
          "output_type": "execute_result",
          "data": {
            "text/plain": [
              "array([[3, 0, 1],\n",
              "       [1, 2, 0],\n",
              "       [0, 1, 1]])"
            ]
          },
          "metadata": {},
          "execution_count": 48
        },
        {
          "output_type": "stream",
          "name": "stdout",
          "text": [
            "time: 12.5 ms (started: 2022-12-27 08:58:40 +00:00)\n"
          ]
        }
      ]
    },
    {
      "cell_type": "code",
      "source": [
        "# save the model using picke librabry\n",
        "import pickle\n",
        "pickle.dump(clf,open('img_model.p', 'wb'))"
      ],
      "metadata": {
        "colab": {
          "base_uri": "https://localhost:8080/"
        },
        "id": "MQCpriuEqAvw",
        "outputId": "179a97e1-fe81-491f-ef02-c7aaa51d7c79"
      },
      "execution_count": 41,
      "outputs": [
        {
          "output_type": "stream",
          "name": "stdout",
          "text": [
            "time: 75.1 ms (started: 2022-12-27 08:50:32 +00:00)\n"
          ]
        }
      ]
    },
    {
      "cell_type": "code",
      "source": [
        "model = pickle.load(open('img_model.p', 'rb'))"
      ],
      "metadata": {
        "colab": {
          "base_uri": "https://localhost:8080/"
        },
        "id": "xVC75NE_rMpb",
        "outputId": "d4d1df56-7c6f-439a-a1ac-593dc5b46e78"
      },
      "execution_count": 42,
      "outputs": [
        {
          "output_type": "stream",
          "name": "stdout",
          "text": [
            "time: 25.5 ms (started: 2022-12-27 08:50:32 +00:00)\n"
          ]
        }
      ]
    },
    {
      "cell_type": "code",
      "source": [
        "from skimage.io import imread # for reading image\n",
        "from skimage.transform import resize # for resizing image make specific size for all"
      ],
      "metadata": {
        "colab": {
          "base_uri": "https://localhost:8080/"
        },
        "id": "kYkzG5zp2fnv",
        "outputId": "4e902fa0-526c-4f81-8dcc-6f923b4c7841"
      },
      "execution_count": 53,
      "outputs": [
        {
          "output_type": "stream",
          "name": "stdout",
          "text": [
            "time: 1.6 ms (started: 2022-12-27 09:13:23 +00:00)\n"
          ]
        }
      ]
    },
    {
      "cell_type": "code",
      "source": [
        "# Testing a brand new image\n",
        "flat_data = []\n",
        "url = input(\"Enter your url\")\n",
        "img = imread(url)\n",
        "img_resized = resize(img,(150,150,3))\n",
        "flat_data.append(img_resized.flatten())\n",
        "print(img.shape)\n",
        "plt.imshow(img_resized)\n",
        "y_out = model.predict(flat_data)\n",
        "y_out = CATEGORIES[y_out[0]]\n",
        "print(f'PREDICTED OUTPUT: {y_out}')"
      ],
      "metadata": {
        "id": "clHib-jgtD95",
        "colab": {
          "base_uri": "https://localhost:8080/",
          "height": 338
        },
        "outputId": "8a9f9a91-07ec-42ce-ff08-a72ced81f684"
      },
      "execution_count": 57,
      "outputs": [
        {
          "output_type": "stream",
          "name": "stdout",
          "text": [
            "Enter your urlhttps://upload.wikimedia.org/wikipedia/commons/e/eb/Sunflowers_helianthus_annuus.jpg\n",
            "(1999, 3229, 3)\n",
            "PREDICTED OUTPUT: pretty sunflower\n"
          ]
        },
        {
          "output_type": "display_data",
          "data": {
            "text/plain": [
              "<Figure size 432x288 with 1 Axes>"
            ],
            "image/png": "[encoded data removed]"
          },
          "metadata": {
            "needs_background": "light"
          }
        },
        {
          "output_type": "stream",
          "name": "stdout",
          "text": [
            "time: 2min 11s (started: 2022-12-27 09:17:15 +00:00)\n"
          ]
        }
      ]
    },
    {
      "cell_type": "code",
      "source": [
        "!pip install streamlit\n",
        "!pip install pyngrok\n",
        "from pyngrok import ngrok"
      ],
      "metadata": {
        "colab": {
          "base_uri": "https://localhost:8080/"
        },
        "id": "lIPrZAcEuzmA",
        "outputId": "29e169cd-ded0-4921-f0c8-94c04924e301"
      },
      "execution_count": 52,
      "outputs": [
        {
          "output_type": "stream",
          "name": "stdout",
          "text": [
            "Looking in indexes: https://pypi.org/simple, https://us-python.pkg.dev/colab-wheels/public/simple/\n",
            "Collecting streamlit\n",
            "  Downloading streamlit-1.16.0-py2.py3-none-any.whl (9.2 MB)\n",
            "\u001b[K     |████████████████████████████████| 9.2 MB 6.1 MB/s \n",
            "\u001b[?25hRequirement already satisfied: click>=7.0 in /usr/local/lib/python3.8/dist-packages (from streamlit) (7.1.2)\n",
            "Requirement already satisfied: typing-extensions>=3.10.0.0 in /usr/local/lib/python3.8/dist-packages (from streamlit) (4.4.0)\n",
            "Requirement already satisfied: cachetools>=4.0 in /usr/local/lib/python3.8/dist-packages (from streamlit) (5.2.0)\n",
            "Requirement already satisfied: pyarrow>=4.0 in /usr/local/lib/python3.8/dist-packages (from streamlit) (9.0.0)\n",
            "Collecting validators>=0.2\n",
            "  Downloading validators-0.20.0.tar.gz (30 kB)\n",
            "Collecting semver\n",
            "  Downloading semver-2.13.0-py2.py3-none-any.whl (12 kB)\n",
            "Requirement already satisfied: protobuf<4,>=3.12 in /usr/local/lib/python3.8/dist-packages (from streamlit) (3.19.6)\n",
            "Requirement already satisfied: numpy in /usr/local/lib/python3.8/dist-packages (from streamlit) (1.21.6)\n",
            "Collecting blinker>=1.0.0\n",
            "  Downloading blinker-1.5-py2.py3-none-any.whl (12 kB)\n",
            "Requirement already satisfied: toml in /usr/local/lib/python3.8/dist-packages (from streamlit) (0.10.2)\n",
            "Collecting gitpython!=3.1.19\n",
            "  Downloading GitPython-3.1.29-py3-none-any.whl (182 kB)\n",
            "\u001b[K     |████████████████████████████████| 182 kB 48.4 MB/s \n",
            "\u001b[?25hRequirement already satisfied: pandas>=0.21.0 in /usr/local/lib/python3.8/dist-packages (from streamlit) (1.3.5)\n",
            "Collecting pympler>=0.9\n",
            "  Downloading Pympler-1.0.1-py3-none-any.whl (164 kB)\n",
            "\u001b[K     |████████████████████████████████| 164 kB 32.4 MB/s \n",
            "\u001b[?25hCollecting watchdog\n",
            "  Downloading watchdog-2.2.0-py3-none-manylinux2014_x86_64.whl (78 kB)\n",
            "\u001b[K     |████████████████████████████████| 78 kB 4.9 MB/s \n",
            "\u001b[?25hCollecting pydeck>=0.1.dev5\n",
            "  Downloading pydeck-0.8.0-py2.py3-none-any.whl (4.7 MB)\n",
            "\u001b[K     |████████████████████████████████| 4.7 MB 28.7 MB/s \n",
            "\u001b[?25hCollecting rich>=10.11.0\n",
            "  Downloading rich-12.6.0-py3-none-any.whl (237 kB)\n",
            "\u001b[K     |████████████████████████████████| 237 kB 20.8 MB/s \n",
            "\u001b[?25hRequirement already satisfied: python-dateutil in /usr/local/lib/python3.8/dist-packages (from streamlit) (2.8.2)\n",
            "Requirement already satisfied: tzlocal>=1.1 in /usr/local/lib/python3.8/dist-packages (from streamlit) (1.5.1)\n",
            "Requirement already satisfied: pillow>=6.2.0 in /usr/local/lib/python3.8/dist-packages (from streamlit) (7.1.2)\n",
            "Requirement already satisfied: tornado>=5.0 in /usr/local/lib/python3.8/dist-packages (from streamlit) (6.0.4)\n",
            "Requirement already satisfied: altair>=3.2.0 in /usr/local/lib/python3.8/dist-packages (from streamlit) (4.2.0)\n",
            "Requirement already satisfied: requests>=2.4 in /usr/local/lib/python3.8/dist-packages (from streamlit) (2.23.0)\n",
            "Requirement already satisfied: packaging>=14.1 in /usr/local/lib/python3.8/dist-packages (from streamlit) (21.3)\n",
            "Requirement already satisfied: importlib-metadata>=1.4 in /usr/local/lib/python3.8/dist-packages (from streamlit) (5.1.0)\n",
            "Requirement already satisfied: entrypoints in /usr/local/lib/python3.8/dist-packages (from altair>=3.2.0->streamlit) (0.4)\n",
            "Requirement already satisfied: toolz in /usr/local/lib/python3.8/dist-packages (from altair>=3.2.0->streamlit) (0.12.0)\n",
            "Requirement already satisfied: jsonschema>=3.0 in /usr/local/lib/python3.8/dist-packages (from altair>=3.2.0->streamlit) (4.3.3)\n",
            "Requirement already satisfied: jinja2 in /usr/local/lib/python3.8/dist-packages (from altair>=3.2.0->streamlit) (2.11.3)\n",
            "Collecting gitdb<5,>=4.0.1\n",
            "  Downloading gitdb-4.0.10-py3-none-any.whl (62 kB)\n",
            "\u001b[K     |████████████████████████████████| 62 kB 661 kB/s \n",
            "\u001b[?25hCollecting smmap<6,>=3.0.1\n",
            "  Downloading smmap-5.0.0-py3-none-any.whl (24 kB)\n",
            "Requirement already satisfied: zipp>=0.5 in /usr/local/lib/python3.8/dist-packages (from importlib-metadata>=1.4->streamlit) (3.11.0)\n",
            "Requirement already satisfied: pyrsistent!=0.17.0,!=0.17.1,!=0.17.2,>=0.14.0 in /usr/local/lib/python3.8/dist-packages (from jsonschema>=3.0->altair>=3.2.0->streamlit) (0.19.2)\n",
            "Requirement already satisfied: importlib-resources>=1.4.0 in /usr/local/lib/python3.8/dist-packages (from jsonschema>=3.0->altair>=3.2.0->streamlit) (5.10.1)\n",
            "Requirement already satisfied: attrs>=17.4.0 in /usr/local/lib/python3.8/dist-packages (from jsonschema>=3.0->altair>=3.2.0->streamlit) (22.1.0)\n",
            "Requirement already satisfied: pyparsing!=3.0.5,>=2.0.2 in /usr/local/lib/python3.8/dist-packages (from packaging>=14.1->streamlit) (3.0.9)\n",
            "Requirement already satisfied: pytz>=2017.3 in /usr/local/lib/python3.8/dist-packages (from pandas>=0.21.0->streamlit) (2022.6)\n",
            "Requirement already satisfied: MarkupSafe>=0.23 in /usr/local/lib/python3.8/dist-packages (from jinja2->altair>=3.2.0->streamlit) (2.0.1)\n",
            "Requirement already satisfied: six>=1.5 in /usr/local/lib/python3.8/dist-packages (from python-dateutil->streamlit) (1.15.0)\n",
            "Requirement already satisfied: certifi>=2017.4.17 in /usr/local/lib/python3.8/dist-packages (from requests>=2.4->streamlit) (2022.12.7)\n",
            "Requirement already satisfied: chardet<4,>=3.0.2 in /usr/local/lib/python3.8/dist-packages (from requests>=2.4->streamlit) (3.0.4)\n",
            "Requirement already satisfied: urllib3!=1.25.0,!=1.25.1,<1.26,>=1.21.1 in /usr/local/lib/python3.8/dist-packages (from requests>=2.4->streamlit) (1.24.3)\n",
            "Requirement already satisfied: idna<3,>=2.5 in /usr/local/lib/python3.8/dist-packages (from requests>=2.4->streamlit) (2.10)\n",
            "Collecting commonmark<0.10.0,>=0.9.0\n",
            "  Downloading commonmark-0.9.1-py2.py3-none-any.whl (51 kB)\n",
            "\u001b[K     |████████████████████████████████| 51 kB 3.5 MB/s \n",
            "\u001b[?25hRequirement already satisfied: pygments<3.0.0,>=2.6.0 in /usr/local/lib/python3.8/dist-packages (from rich>=10.11.0->streamlit) (2.6.1)\n",
            "Requirement already satisfied: decorator>=3.4.0 in /usr/local/lib/python3.8/dist-packages (from validators>=0.2->streamlit) (4.4.2)\n",
            "Building wheels for collected packages: validators\n",
            "  Building wheel for validators (setup.py) ... \u001b[?25l\u001b[?25hdone\n",
            "  Created wheel for validators: filename=validators-0.20.0-py3-none-any.whl size=19581 sha256=48312f1a7a4086ea4c7b84dee1bd06768b70a04836e7bed24dc60193a5d7e297\n",
            "  Stored in directory: /root/.cache/pip/wheels/19/09/72/3eb74d236bb48bd0f3c6c3c83e4e0c5bbfcbcad7c6c3539db8\n",
            "Successfully built validators\n",
            "Installing collected packages: smmap, gitdb, commonmark, watchdog, validators, semver, rich, pympler, pydeck, gitpython, blinker, streamlit\n",
            "Successfully installed blinker-1.5 commonmark-0.9.1 gitdb-4.0.10 gitpython-3.1.29 pydeck-0.8.0 pympler-1.0.1 rich-12.6.0 semver-2.13.0 smmap-5.0.0 streamlit-1.16.0 validators-0.20.0 watchdog-2.2.0\n",
            "Looking in indexes: https://pypi.org/simple, https://us-python.pkg.dev/colab-wheels/public/simple/\n",
            "Collecting pyngrok\n",
            "  Downloading pyngrok-5.2.1.tar.gz (761 kB)\n",
            "\u001b[K     |████████████████████████████████| 761 kB 5.7 MB/s \n",
            "\u001b[?25hRequirement already satisfied: PyYAML in /usr/local/lib/python3.8/dist-packages (from pyngrok) (6.0)\n",
            "Building wheels for collected packages: pyngrok\n",
            "  Building wheel for pyngrok (setup.py) ... \u001b[?25l\u001b[?25hdone\n",
            "  Created wheel for pyngrok: filename=pyngrok-5.2.1-py3-none-any.whl size=19792 sha256=3fe3f62ff1e5ce8689a49c522a701fdba2d28febd17b22ee723d5171700d311d\n",
            "  Stored in directory: /root/.cache/pip/wheels/5d/f2/70/526da675d32f17577ec47ac4c663084efe39d47c826b6c3bb1\n",
            "Successfully built pyngrok\n",
            "Installing collected packages: pyngrok\n",
            "Successfully installed pyngrok-5.2.1\n",
            "time: 26.5 s (started: 2022-12-27 09:12:26 +00:00)\n"
          ]
        }
      ]
    },
    {
      "cell_type": "code",
      "source": [
        "# Deployment of this in streamlit for makin sure that well built in the from of product \n",
        "# Webpage - HTML, JAVASCRIPT, FLASK\n",
        "# Webapp = STREAMLIT, DASH\n",
        "# Mobile app = JAVA"
      ],
      "metadata": {
        "id": "zY3wzYTzvGSz"
      },
      "execution_count": null,
      "outputs": []
    },
    {
      "cell_type": "code",
      "source": [
        "%%writefile app.py\n",
        "import streamlit as st\n",
        "st.title(\"Image Classifier\")"
      ],
      "metadata": {
        "id": "6AHHQyD3v8h-"
      },
      "execution_count": null,
      "outputs": []
    },
    {
      "cell_type": "code",
      "source": [
        "\n"
      ],
      "metadata": {
        "id": "sYwHI-C4ydUT"
      },
      "execution_count": null,
      "outputs": []
    },
    {
      "cell_type": "code",
      "source": [],
      "metadata": {
        "id": "OpLA54s2zi-a"
      },
      "execution_count": null,
      "outputs": []
    }
  ]
}